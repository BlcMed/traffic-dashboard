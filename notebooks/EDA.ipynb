{
  "cells": [
    {
      "cell_type": "markdown",
      "metadata": {
        "id": "JH8vbFx7Ouqp"
      },
      "source": [
        "# Import necessities"
      ]
    },
    {
      "cell_type": "code",
      "execution_count": 1,
      "metadata": {
        "id": "h30EbEdj6Och"
      },
      "outputs": [],
      "source": [
        "import json\n",
        "import pandas as pd\n",
        "from matplotlib import pyplot as plt"
      ]
    },
    {
      "cell_type": "markdown",
      "metadata": {
        "id": "0mZRNY5eO4bN"
      },
      "source": [
        "# Loading"
      ]
    },
    {
      "cell_type": "code",
      "execution_count": 2,
      "metadata": {
        "id": "m5tzCoe2CsTP"
      },
      "outputs": [],
      "source": [
        "# Only temporary before we set up the DB in the cloud\n",
        "incidents=[]\n",
        "with open(\"../data/raw/temp1.json\",\"r\") as json_file:\n",
        "  incidents+=json.load(json_file)['incidents']"
      ]
    },
    {
      "cell_type": "code",
      "execution_count": 3,
      "metadata": {
        "id": "yEKYH4JeE8Er"
      },
      "outputs": [
        {
          "ename": "TypeError",
          "evalue": "list indices must be integers or slices, not str",
          "output_type": "error",
          "traceback": [
            "\u001b[1;31m---------------------------------------------------------------------------\u001b[0m",
            "\u001b[1;31mTypeError\u001b[0m                                 Traceback (most recent call last)",
            "Cell \u001b[1;32mIn[3], line 5\u001b[0m\n\u001b[0;32m      3\u001b[0m custom_inc\u001b[38;5;241m=\u001b[39m[]\n\u001b[0;32m      4\u001b[0m \u001b[38;5;28;01mfor\u001b[39;00m inc \u001b[38;5;129;01min\u001b[39;00m incidents:\n\u001b[1;32m----> 5\u001b[0m   properties\u001b[38;5;241m=\u001b[39m\u001b[43minc\u001b[49m\u001b[43m[\u001b[49m\u001b[38;5;124;43m\"\u001b[39;49m\u001b[38;5;124;43mproperties\u001b[39;49m\u001b[38;5;124;43m\"\u001b[39;49m\u001b[43m]\u001b[49m\n\u001b[0;32m      6\u001b[0m   custom_inc\u001b[38;5;241m.\u001b[39mappend({ \u001b[38;5;124m\"\u001b[39m\u001b[38;5;124mcategory\u001b[39m\u001b[38;5;124m\"\u001b[39m:icons_dict[properties[\u001b[38;5;124m\"\u001b[39m\u001b[38;5;124miconCategory\u001b[39m\u001b[38;5;124m\"\u001b[39m]],\u001b[38;5;124m\"\u001b[39m\u001b[38;5;124mcoordinates\u001b[39m\u001b[38;5;124m\"\u001b[39m:inc[\u001b[38;5;124m\"\u001b[39m\u001b[38;5;124mgeometry\u001b[39m\u001b[38;5;124m\"\u001b[39m][\u001b[38;5;124m\"\u001b[39m\u001b[38;5;124mcoordinates\u001b[39m\u001b[38;5;124m\"\u001b[39m][\u001b[38;5;241m0\u001b[39m], \u001b[38;5;124m\"\u001b[39m\u001b[38;5;124mstartTime\u001b[39m\u001b[38;5;124m\"\u001b[39m:properties[\u001b[38;5;124m\"\u001b[39m\u001b[38;5;124mstartTime\u001b[39m\u001b[38;5;124m\"\u001b[39m], \u001b[38;5;124m\"\u001b[39m\u001b[38;5;124mendTime\u001b[39m\u001b[38;5;124m\"\u001b[39m:properties[\u001b[38;5;124m\"\u001b[39m\u001b[38;5;124mendTime\u001b[39m\u001b[38;5;124m\"\u001b[39m], \u001b[38;5;124m\"\u001b[39m\u001b[38;5;124mfrom\u001b[39m\u001b[38;5;124m\"\u001b[39m:properties[\u001b[38;5;124m\"\u001b[39m\u001b[38;5;124mfrom\u001b[39m\u001b[38;5;124m\"\u001b[39m],\u001b[38;5;124m\"\u001b[39m\u001b[38;5;124mto\u001b[39m\u001b[38;5;124m\"\u001b[39m:properties[\u001b[38;5;124m\"\u001b[39m\u001b[38;5;124mto\u001b[39m\u001b[38;5;124m\"\u001b[39m], \u001b[38;5;124m\"\u001b[39m\u001b[38;5;124mtype\u001b[39m\u001b[38;5;124m\"\u001b[39m : inc[\u001b[38;5;124m\"\u001b[39m\u001b[38;5;124mtype\u001b[39m\u001b[38;5;124m\"\u001b[39m]})\n\u001b[0;32m      7\u001b[0m df\u001b[38;5;241m=\u001b[39mpd\u001b[38;5;241m.\u001b[39mDataFrame(custom_inc)\n",
            "\u001b[1;31mTypeError\u001b[0m: list indices must be integers or slices, not str"
          ]
        }
      ],
      "source": [
        "icons_dict={0: \"Unknown\",1: \"Accident\",2: \"Fog\",3: \"Dangerous Conditions\",4: \"Rain\",5: \"Ice\",6: \"Jam\",7: \"Lane Closed\",8: \"Road Closed\",9: \"Road Works\",10: \"Wind\",11: \"Flooding\", 14: \"Broken Down Vehicle\"}\n",
        "#incidents=data[\"incidents\"]\n",
        "custom_inc=[]\n",
        "for inc in incidents:\n",
        "  properties=inc[\"properties\"]\n",
        "  custom_inc.append({ \"category\":icons_dict[properties[\"iconCategory\"]],\"coordinates\":inc[\"geometry\"][\"coordinates\"][0], \"startTime\":properties[\"startTime\"], \"endTime\":properties[\"endTime\"], \"from\":properties[\"from\"],\"to\":properties[\"to\"], \"type\" : inc[\"type\"]})\n",
        "df=pd.DataFrame(custom_inc)"
      ]
    },
    {
      "cell_type": "code",
      "execution_count": 5,
      "metadata": {},
      "outputs": [
        {
          "data": {
            "text/plain": [
              "1011"
            ]
          },
          "execution_count": 5,
          "metadata": {},
          "output_type": "execute_result"
        }
      ],
      "source": [
        "len(incidents)"
      ]
    },
    {
      "cell_type": "markdown",
      "metadata": {
        "id": "kXPvYge4VLW5"
      },
      "source": [
        "# Cleaning"
      ]
    },
    {
      "cell_type": "code",
      "execution_count": 6,
      "metadata": {
        "colab": {
          "base_uri": "https://localhost:8080/",
          "height": 206
        },
        "id": "5PjbqX5qVNqx",
        "outputId": "c2cc9637-82f9-4b58-e690-f1cac916868f"
      },
      "outputs": [
        {
          "data": {
            "text/html": [
              "<div>\n",
              "<style scoped>\n",
              "    .dataframe tbody tr th:only-of-type {\n",
              "        vertical-align: middle;\n",
              "    }\n",
              "\n",
              "    .dataframe tbody tr th {\n",
              "        vertical-align: top;\n",
              "    }\n",
              "\n",
              "    .dataframe thead th {\n",
              "        text-align: right;\n",
              "    }\n",
              "</style>\n",
              "<table border=\"1\" class=\"dataframe\">\n",
              "  <thead>\n",
              "    <tr style=\"text-align: right;\">\n",
              "      <th></th>\n",
              "      <th>category</th>\n",
              "      <th>coordinates</th>\n",
              "      <th>startTime</th>\n",
              "      <th>endTime</th>\n",
              "      <th>from</th>\n",
              "      <th>to</th>\n",
              "      <th>type</th>\n",
              "    </tr>\n",
              "  </thead>\n",
              "  <tbody>\n",
              "    <tr>\n",
              "      <th>0</th>\n",
              "      <td>Road Closed</td>\n",
              "      <td>[-74.2529065009, 40.8846880864]</td>\n",
              "      <td>2023-12-19T16:14:34Z</td>\n",
              "      <td>None</td>\n",
              "      <td>State Route 23</td>\n",
              "      <td>US Highway 46</td>\n",
              "      <td>Feature</td>\n",
              "    </tr>\n",
              "    <tr>\n",
              "      <th>1</th>\n",
              "      <td>Road Closed</td>\n",
              "      <td>[-74.2627394791, 40.886544155]</td>\n",
              "      <td>2023-12-19T16:14:34Z</td>\n",
              "      <td>None</td>\n",
              "      <td>US Highway 46</td>\n",
              "      <td>State Route 23</td>\n",
              "      <td>Feature</td>\n",
              "    </tr>\n",
              "    <tr>\n",
              "      <th>2</th>\n",
              "      <td>Jam</td>\n",
              "      <td>[-74.2490159567, 40.6607718819]</td>\n",
              "      <td>2024-03-16T20:42:15Z</td>\n",
              "      <td>2024-03-16T21:03:20Z</td>\n",
              "      <td>E 2nd Ave</td>\n",
              "      <td>E 1st Ave</td>\n",
              "      <td>Feature</td>\n",
              "    </tr>\n",
              "    <tr>\n",
              "      <th>3</th>\n",
              "      <td>Jam</td>\n",
              "      <td>[-74.2489113506, 40.8900578692]</td>\n",
              "      <td>2024-03-16T20:29:42Z</td>\n",
              "      <td>2024-03-16T21:03:20Z</td>\n",
              "      <td>US-46 (NJ-23)</td>\n",
              "      <td>Main St (Newark Pompton Tpke/NJ-23)</td>\n",
              "      <td>Feature</td>\n",
              "    </tr>\n",
              "    <tr>\n",
              "      <th>4</th>\n",
              "      <td>Jam</td>\n",
              "      <td>[-74.2437185939, 40.7272705583]</td>\n",
              "      <td>2024-03-16T19:54:12Z</td>\n",
              "      <td>2024-03-16T21:04:20Z</td>\n",
              "      <td>Tiffany Pl</td>\n",
              "      <td>Clinton Ave</td>\n",
              "      <td>Feature</td>\n",
              "    </tr>\n",
              "  </tbody>\n",
              "</table>\n",
              "</div>"
            ],
            "text/plain": [
              "      category                      coordinates             startTime  \\\n",
              "0  Road Closed  [-74.2529065009, 40.8846880864]  2023-12-19T16:14:34Z   \n",
              "1  Road Closed   [-74.2627394791, 40.886544155]  2023-12-19T16:14:34Z   \n",
              "2          Jam  [-74.2490159567, 40.6607718819]  2024-03-16T20:42:15Z   \n",
              "3          Jam  [-74.2489113506, 40.8900578692]  2024-03-16T20:29:42Z   \n",
              "4          Jam  [-74.2437185939, 40.7272705583]  2024-03-16T19:54:12Z   \n",
              "\n",
              "                endTime            from                                   to  \\\n",
              "0                  None  State Route 23                        US Highway 46   \n",
              "1                  None   US Highway 46                       State Route 23   \n",
              "2  2024-03-16T21:03:20Z       E 2nd Ave                            E 1st Ave   \n",
              "3  2024-03-16T21:03:20Z   US-46 (NJ-23)  Main St (Newark Pompton Tpke/NJ-23)   \n",
              "4  2024-03-16T21:04:20Z      Tiffany Pl                          Clinton Ave   \n",
              "\n",
              "      type  \n",
              "0  Feature  \n",
              "1  Feature  \n",
              "2  Feature  \n",
              "3  Feature  \n",
              "4  Feature  "
            ]
          },
          "execution_count": 6,
          "metadata": {},
          "output_type": "execute_result"
        }
      ],
      "source": [
        "df.head()"
      ]
    },
    {
      "cell_type": "markdown",
      "metadata": {
        "id": "53pLRkMVVp0q"
      },
      "source": [
        "## Convert timecolumns to timestamps"
      ]
    },
    {
      "cell_type": "code",
      "execution_count": 13,
      "metadata": {
        "colab": {
          "base_uri": "https://localhost:8080/"
        },
        "id": "-exSxnhYVUfY",
        "outputId": "5de99709-4987-4c60-cdcc-9ac0ddddb1f9"
      },
      "outputs": [
        {
          "data": {
            "text/plain": [
              "str"
            ]
          },
          "execution_count": 13,
          "metadata": {},
          "output_type": "execute_result"
        }
      ],
      "source": [
        "type(df[\"startTime\"][0])"
      ]
    },
    {
      "cell_type": "code",
      "execution_count": 14,
      "metadata": {
        "colab": {
          "base_uri": "https://localhost:8080/"
        },
        "id": "EQjaNW_2VPM5",
        "outputId": "49c23f24-81ec-463e-b8a9-2861f4545296"
      },
      "outputs": [
        {
          "name": "stdout",
          "output_type": "stream",
          "text": [
            "<class 'pandas._libs.tslibs.timestamps.Timestamp'> <class 'pandas._libs.tslibs.nattype.NaTType'>\n"
          ]
        }
      ],
      "source": [
        "df['startTime'] = pd.to_datetime(df['startTime'])\n",
        "df['endTime'] = pd.to_datetime(df['endTime'])\n",
        "\n",
        "print(type(df[\"startTime\"][0]), type(df[\"endTime\"][0]))"
      ]
    },
    {
      "cell_type": "markdown",
      "metadata": {
        "id": "QkMOyt25WCIv"
      },
      "source": [
        "## Convert coordinates to tuples"
      ]
    },
    {
      "cell_type": "code",
      "execution_count": 15,
      "metadata": {
        "colab": {
          "base_uri": "https://localhost:8080/"
        },
        "id": "Y0YtelFpWMpP",
        "outputId": "d94dcb61-51ea-422f-dc15-f5ed43b667a2"
      },
      "outputs": [
        {
          "name": "stdout",
          "output_type": "stream",
          "text": [
            "<class 'tuple'>\n"
          ]
        }
      ],
      "source": [
        "df[\"coordinates\"]=df[\"coordinates\"].apply(tuple)\n",
        "print(type(df[\"coordinates\"][0]))"
      ]
    },
    {
      "cell_type": "markdown",
      "metadata": {
        "id": "I7Ef9HMkftdw"
      },
      "source": [
        "## Duplicates"
      ]
    },
    {
      "cell_type": "code",
      "execution_count": 16,
      "metadata": {
        "colab": {
          "base_uri": "https://localhost:8080/"
        },
        "id": "LVvcdsWDT406",
        "outputId": "5e19bb48-0b04-4b8f-ec91-8461dac428b6"
      },
      "outputs": [
        {
          "data": {
            "text/plain": [
              "0"
            ]
          },
          "execution_count": 16,
          "metadata": {},
          "output_type": "execute_result"
        }
      ],
      "source": [
        "df.duplicated().sum()"
      ]
    },
    {
      "cell_type": "code",
      "execution_count": 17,
      "metadata": {
        "id": "Vnj28W0Zfz5n"
      },
      "outputs": [],
      "source": [
        "df.drop_duplicates(inplace = True)"
      ]
    },
    {
      "cell_type": "code",
      "execution_count": 18,
      "metadata": {
        "colab": {
          "base_uri": "https://localhost:8080/"
        },
        "id": "j2yDN2yzf8Qn",
        "outputId": "112755b5-1646-4887-f0ba-33c489570975"
      },
      "outputs": [
        {
          "data": {
            "text/plain": [
              "category       1011\n",
              "coordinates    1011\n",
              "startTime      1011\n",
              "endTime         854\n",
              "from           1011\n",
              "to             1011\n",
              "type           1011\n",
              "dtype: int64"
            ]
          },
          "execution_count": 18,
          "metadata": {},
          "output_type": "execute_result"
        }
      ],
      "source": [
        "df.count()"
      ]
    },
    {
      "cell_type": "markdown",
      "metadata": {
        "id": "y_bNCpITjdne"
      },
      "source": [
        "## Reset index"
      ]
    },
    {
      "cell_type": "code",
      "execution_count": 19,
      "metadata": {
        "id": "XisjH1xLib7X"
      },
      "outputs": [],
      "source": [
        "df.reset_index(inplace=True, drop =True)"
      ]
    },
    {
      "cell_type": "markdown",
      "metadata": {
        "id": "pLAHHNoiO_9Z"
      },
      "source": [
        "# Exploration"
      ]
    },
    {
      "cell_type": "code",
      "execution_count": 20,
      "metadata": {
        "colab": {
          "base_uri": "https://localhost:8080/",
          "height": 310
        },
        "id": "pO404H94FI8h",
        "outputId": "81ebbe6a-baec-4c45-95a5-39f7f834140f"
      },
      "outputs": [
        {
          "data": {
            "text/html": [
              "<div>\n",
              "<style scoped>\n",
              "    .dataframe tbody tr th:only-of-type {\n",
              "        vertical-align: middle;\n",
              "    }\n",
              "\n",
              "    .dataframe tbody tr th {\n",
              "        vertical-align: top;\n",
              "    }\n",
              "\n",
              "    .dataframe thead th {\n",
              "        text-align: right;\n",
              "    }\n",
              "</style>\n",
              "<table border=\"1\" class=\"dataframe\">\n",
              "  <thead>\n",
              "    <tr style=\"text-align: right;\">\n",
              "      <th></th>\n",
              "      <th>category</th>\n",
              "      <th>coordinates</th>\n",
              "      <th>startTime</th>\n",
              "      <th>endTime</th>\n",
              "      <th>from</th>\n",
              "      <th>to</th>\n",
              "      <th>type</th>\n",
              "    </tr>\n",
              "  </thead>\n",
              "  <tbody>\n",
              "    <tr>\n",
              "      <th>1006</th>\n",
              "      <td>Jam</td>\n",
              "      <td>(-73.7165237064, 40.735584053)</td>\n",
              "      <td>2024-03-16 20:30:56+00:00</td>\n",
              "      <td>2024-03-16 21:03:20+00:00</td>\n",
              "      <td>Hillside Ave</td>\n",
              "      <td>85th Ave</td>\n",
              "      <td>Feature</td>\n",
              "    </tr>\n",
              "    <tr>\n",
              "      <th>1007</th>\n",
              "      <td>Jam</td>\n",
              "      <td>(-73.7229636902, 40.7540926589)</td>\n",
              "      <td>2024-03-16 17:15:52+00:00</td>\n",
              "      <td>2024-03-16 21:03:20+00:00</td>\n",
              "      <td>Little Neck Pkwy/Exit 24 (Grand Central Pkwy)</td>\n",
              "      <td>Northern State Pkwy (Grand Central Pkwy)</td>\n",
              "      <td>Feature</td>\n",
              "    </tr>\n",
              "    <tr>\n",
              "      <th>1008</th>\n",
              "      <td>Jam</td>\n",
              "      <td>(-73.7128919954, 40.7597132044)</td>\n",
              "      <td>2024-03-16 20:21:38+00:00</td>\n",
              "      <td>2024-03-16 21:04:20+00:00</td>\n",
              "      <td>Grand Central Pkwy (Northern State Pkwy)</td>\n",
              "      <td>Willis Ave/Exit 28 (Northern State Pkwy)</td>\n",
              "      <td>Feature</td>\n",
              "    </tr>\n",
              "    <tr>\n",
              "      <th>1009</th>\n",
              "      <td>Jam</td>\n",
              "      <td>(-73.6397387678, 40.7810931434)</td>\n",
              "      <td>2024-03-16 19:44:04+00:00</td>\n",
              "      <td>2024-03-16 23:35:20+00:00</td>\n",
              "      <td>I-495/Exit 29 (Northern State Pkwy)</td>\n",
              "      <td>Grand Central Pkwy (Northern State Pkwy)</td>\n",
              "      <td>Feature</td>\n",
              "    </tr>\n",
              "    <tr>\n",
              "      <th>1010</th>\n",
              "      <td>Jam</td>\n",
              "      <td>(-73.6172216231, 40.7836961961)</td>\n",
              "      <td>2024-03-16 19:34:28+00:00</td>\n",
              "      <td>2024-03-16 22:55:20+00:00</td>\n",
              "      <td>NY-25/Exit 40 (I-495)</td>\n",
              "      <td>Oceania St/Exit 28 (I-495)</td>\n",
              "      <td>Feature</td>\n",
              "    </tr>\n",
              "  </tbody>\n",
              "</table>\n",
              "</div>"
            ],
            "text/plain": [
              "     category                      coordinates                 startTime  \\\n",
              "1006      Jam   (-73.7165237064, 40.735584053) 2024-03-16 20:30:56+00:00   \n",
              "1007      Jam  (-73.7229636902, 40.7540926589) 2024-03-16 17:15:52+00:00   \n",
              "1008      Jam  (-73.7128919954, 40.7597132044) 2024-03-16 20:21:38+00:00   \n",
              "1009      Jam  (-73.6397387678, 40.7810931434) 2024-03-16 19:44:04+00:00   \n",
              "1010      Jam  (-73.6172216231, 40.7836961961) 2024-03-16 19:34:28+00:00   \n",
              "\n",
              "                       endTime                                           from  \\\n",
              "1006 2024-03-16 21:03:20+00:00                                   Hillside Ave   \n",
              "1007 2024-03-16 21:03:20+00:00  Little Neck Pkwy/Exit 24 (Grand Central Pkwy)   \n",
              "1008 2024-03-16 21:04:20+00:00       Grand Central Pkwy (Northern State Pkwy)   \n",
              "1009 2024-03-16 23:35:20+00:00            I-495/Exit 29 (Northern State Pkwy)   \n",
              "1010 2024-03-16 22:55:20+00:00                          NY-25/Exit 40 (I-495)   \n",
              "\n",
              "                                            to     type  \n",
              "1006                                  85th Ave  Feature  \n",
              "1007  Northern State Pkwy (Grand Central Pkwy)  Feature  \n",
              "1008  Willis Ave/Exit 28 (Northern State Pkwy)  Feature  \n",
              "1009  Grand Central Pkwy (Northern State Pkwy)  Feature  \n",
              "1010                Oceania St/Exit 28 (I-495)  Feature  "
            ]
          },
          "execution_count": 20,
          "metadata": {},
          "output_type": "execute_result"
        }
      ],
      "source": [
        "df.tail()"
      ]
    },
    {
      "cell_type": "code",
      "execution_count": 21,
      "metadata": {
        "colab": {
          "base_uri": "https://localhost:8080/",
          "height": 300
        },
        "id": "up4mwhc7GHq6",
        "outputId": "0a103ebf-304a-4747-b8b4-2eb84ec63565"
      },
      "outputs": [
        {
          "data": {
            "text/html": [
              "<div>\n",
              "<style scoped>\n",
              "    .dataframe tbody tr th:only-of-type {\n",
              "        vertical-align: middle;\n",
              "    }\n",
              "\n",
              "    .dataframe tbody tr th {\n",
              "        vertical-align: top;\n",
              "    }\n",
              "\n",
              "    .dataframe thead th {\n",
              "        text-align: right;\n",
              "    }\n",
              "</style>\n",
              "<table border=\"1\" class=\"dataframe\">\n",
              "  <thead>\n",
              "    <tr style=\"text-align: right;\">\n",
              "      <th></th>\n",
              "      <th>coordinates</th>\n",
              "      <th>startTime</th>\n",
              "      <th>endTime</th>\n",
              "      <th>from</th>\n",
              "      <th>to</th>\n",
              "      <th>type</th>\n",
              "    </tr>\n",
              "    <tr>\n",
              "      <th>category</th>\n",
              "      <th></th>\n",
              "      <th></th>\n",
              "      <th></th>\n",
              "      <th></th>\n",
              "      <th></th>\n",
              "      <th></th>\n",
              "    </tr>\n",
              "  </thead>\n",
              "  <tbody>\n",
              "    <tr>\n",
              "      <th>Accident</th>\n",
              "      <td>1</td>\n",
              "      <td>1</td>\n",
              "      <td>0</td>\n",
              "      <td>1</td>\n",
              "      <td>1</td>\n",
              "      <td>1</td>\n",
              "    </tr>\n",
              "    <tr>\n",
              "      <th>Jam</th>\n",
              "      <td>749</td>\n",
              "      <td>749</td>\n",
              "      <td>749</td>\n",
              "      <td>749</td>\n",
              "      <td>749</td>\n",
              "      <td>749</td>\n",
              "    </tr>\n",
              "    <tr>\n",
              "      <th>Lane Closed</th>\n",
              "      <td>7</td>\n",
              "      <td>7</td>\n",
              "      <td>6</td>\n",
              "      <td>7</td>\n",
              "      <td>7</td>\n",
              "      <td>7</td>\n",
              "    </tr>\n",
              "    <tr>\n",
              "      <th>Road Closed</th>\n",
              "      <td>172</td>\n",
              "      <td>172</td>\n",
              "      <td>51</td>\n",
              "      <td>172</td>\n",
              "      <td>172</td>\n",
              "      <td>172</td>\n",
              "    </tr>\n",
              "    <tr>\n",
              "      <th>Road Works</th>\n",
              "      <td>36</td>\n",
              "      <td>36</td>\n",
              "      <td>3</td>\n",
              "      <td>36</td>\n",
              "      <td>36</td>\n",
              "      <td>36</td>\n",
              "    </tr>\n",
              "    <tr>\n",
              "      <th>Unknown</th>\n",
              "      <td>46</td>\n",
              "      <td>46</td>\n",
              "      <td>45</td>\n",
              "      <td>46</td>\n",
              "      <td>46</td>\n",
              "      <td>46</td>\n",
              "    </tr>\n",
              "  </tbody>\n",
              "</table>\n",
              "</div>"
            ],
            "text/plain": [
              "             coordinates  startTime  endTime  from   to  type\n",
              "category                                                     \n",
              "Accident               1          1        0     1    1     1\n",
              "Jam                  749        749      749   749  749   749\n",
              "Lane Closed            7          7        6     7    7     7\n",
              "Road Closed          172        172       51   172  172   172\n",
              "Road Works            36         36        3    36   36    36\n",
              "Unknown               46         46       45    46   46    46"
            ]
          },
          "execution_count": 21,
          "metadata": {},
          "output_type": "execute_result"
        }
      ],
      "source": [
        "df.groupby(\"category\").count()"
      ]
    },
    {
      "cell_type": "code",
      "execution_count": 22,
      "metadata": {
        "colab": {
          "base_uri": "https://localhost:8080/",
          "height": 430
        },
        "id": "JZ_q63kvIt2Q",
        "outputId": "9d21d961-785d-4917-df74-fa48054edd98"
      },
      "outputs": [
        {
          "data": {
            "image/png": "[encoded data removed]",
            "text/plain": [
              "<Figure size 640x480 with 1 Axes>"
            ]
          },
          "metadata": {},
          "output_type": "display_data"
        }
      ],
      "source": [
        "df.groupby('category').size().plot(kind='barh', color=['#1f77b4', '#ff7f0e', '#2ca02c', '#d62728', '#9467bd', '#8c564b', '#e377c2', '#7f7f7f', '#bcbd22', '#17becf', '#1f77b4', '#ff7f0e', '#2ca02c', '#d62728'])\n",
        "plt.gca().spines[['top', 'right',]].set_visible(False)"
      ]
    },
    {
      "cell_type": "code",
      "execution_count": 23,
      "metadata": {
        "id": "lvlfSQOZOlqV"
      },
      "outputs": [],
      "source": [
        "def rows_after(certain_time_str='2024-03-01 00:00:00'):\n",
        "  certain_time = pd.Timestamp(certain_time_str, tz='UTC')\n",
        "  filtered_df = df[df['startTime'] > certain_time]\n",
        "  return filtered_df[\"type\"].count()"
      ]
    },
    {
      "cell_type": "code",
      "execution_count": 24,
      "metadata": {
        "colab": {
          "base_uri": "https://localhost:8080/"
        },
        "id": "rEEYdia_ziPM",
        "outputId": "eaa4bc15-ce39-4b44-fa69-1629c7cc903a"
      },
      "outputs": [
        {
          "data": {
            "text/plain": [
              "856"
            ]
          },
          "execution_count": 24,
          "metadata": {},
          "output_type": "execute_result"
        }
      ],
      "source": [
        "rows_after('2024-03-15 00:00:00' )"
      ]
    },
    {
      "cell_type": "code",
      "execution_count": 25,
      "metadata": {
        "colab": {
          "base_uri": "https://localhost:8080/",
          "height": 1000
        },
        "id": "P6GtjYw5JHxg",
        "outputId": "4273d74b-465a-4849-a154-7a9b4ca9bc32"
      },
      "outputs": [
        {
          "data": {
            "text/html": [
              "<div>\n",
              "<style scoped>\n",
              "    .dataframe tbody tr th:only-of-type {\n",
              "        vertical-align: middle;\n",
              "    }\n",
              "\n",
              "    .dataframe tbody tr th {\n",
              "        vertical-align: top;\n",
              "    }\n",
              "\n",
              "    .dataframe thead th {\n",
              "        text-align: right;\n",
              "    }\n",
              "</style>\n",
              "<table border=\"1\" class=\"dataframe\">\n",
              "  <thead>\n",
              "    <tr style=\"text-align: right;\">\n",
              "      <th></th>\n",
              "      <th>category</th>\n",
              "      <th>coordinates</th>\n",
              "      <th>startTime</th>\n",
              "      <th>endTime</th>\n",
              "      <th>from</th>\n",
              "      <th>to</th>\n",
              "      <th>type</th>\n",
              "    </tr>\n",
              "  </thead>\n",
              "  <tbody>\n",
              "    <tr>\n",
              "      <th>226</th>\n",
              "      <td>Jam</td>\n",
              "      <td>(-74.0100351567, 40.7051436688)</td>\n",
              "      <td>2024-03-16 20:43:20+00:00</td>\n",
              "      <td>2024-03-16 21:03:20+00:00</td>\n",
              "      <td>S William St</td>\n",
              "      <td>Wall St</td>\n",
              "      <td>Feature</td>\n",
              "    </tr>\n",
              "    <tr>\n",
              "      <th>60</th>\n",
              "      <td>Jam</td>\n",
              "      <td>(-74.1776235993, 40.6945020223)</td>\n",
              "      <td>2024-03-16 20:43:20+00:00</td>\n",
              "      <td>2024-03-16 21:03:20+00:00</td>\n",
              "      <td>Express Rd</td>\n",
              "      <td>Tower Rd</td>\n",
              "      <td>Feature</td>\n",
              "    </tr>\n",
              "    <tr>\n",
              "      <th>37</th>\n",
              "      <td>Jam</td>\n",
              "      <td>(-74.2153716679, 40.6676330145)</td>\n",
              "      <td>2024-03-16 20:43:20+00:00</td>\n",
              "      <td>2024-03-16 21:03:20+00:00</td>\n",
              "      <td>NJ-27/Westfield Ave (S Broad St)</td>\n",
              "      <td>Rahway Ave/Elizabeth Ave (Broad St)</td>\n",
              "      <td>Feature</td>\n",
              "    </tr>\n",
              "    <tr>\n",
              "      <th>231</th>\n",
              "      <td>Jam</td>\n",
              "      <td>(-74.0101263518, 40.7143946218)</td>\n",
              "      <td>2024-03-16 20:43:20+00:00</td>\n",
              "      <td>2024-03-16 21:03:20+00:00</td>\n",
              "      <td>Chambers St / Hudson St</td>\n",
              "      <td>Broadway</td>\n",
              "      <td>Feature</td>\n",
              "    </tr>\n",
              "    <tr>\n",
              "      <th>617</th>\n",
              "      <td>Jam</td>\n",
              "      <td>(-73.9251405592, 40.8476936876)</td>\n",
              "      <td>2024-03-16 20:43:20+00:00</td>\n",
              "      <td>2024-03-16 21:09:20+00:00</td>\n",
              "      <td>Cross Bronx Expwy (I-95) exit [7N-S]</td>\n",
              "      <td>G Washington Br exit [7S]</td>\n",
              "      <td>Feature</td>\n",
              "    </tr>\n",
              "    <tr>\n",
              "      <th>206</th>\n",
              "      <td>Jam</td>\n",
              "      <td>(-74.0221319194, 40.6307472337)</td>\n",
              "      <td>2024-03-16 20:43:20+00:00</td>\n",
              "      <td>2024-03-16 21:03:20+00:00</td>\n",
              "      <td>Bay Ridge Pkwy</td>\n",
              "      <td>Gowanus Expy E</td>\n",
              "      <td>Feature</td>\n",
              "    </tr>\n",
              "    <tr>\n",
              "      <th>619</th>\n",
              "      <td>Jam</td>\n",
              "      <td>(-73.9285523291, 40.7278070466)</td>\n",
              "      <td>2024-03-16 20:43:20+00:00</td>\n",
              "      <td>2024-03-16 20:57:20+00:00</td>\n",
              "      <td>Long Is Expwy (I-495) exit [35A-B]</td>\n",
              "      <td>Long Is Expwy (I-495) exit [35A-B]</td>\n",
              "      <td>Feature</td>\n",
              "    </tr>\n",
              "    <tr>\n",
              "      <th>232</th>\n",
              "      <td>Jam</td>\n",
              "      <td>(-74.011719584, 40.8444174079)</td>\n",
              "      <td>2024-03-16 20:43:20+00:00</td>\n",
              "      <td>2024-03-16 21:03:20+00:00</td>\n",
              "      <td>I-95/New Jersey Tpke (US-46)</td>\n",
              "      <td>Grand Ave (US-46)</td>\n",
              "      <td>Feature</td>\n",
              "    </tr>\n",
              "    <tr>\n",
              "      <th>137</th>\n",
              "      <td>Jam</td>\n",
              "      <td>(-74.0772607024, 40.7108004996)</td>\n",
              "      <td>2024-03-16 20:43:20+00:00</td>\n",
              "      <td>2024-03-16 21:03:20+00:00</td>\n",
              "      <td>Kearney Ave / Hart St</td>\n",
              "      <td>Martin Luther King Jr Dr</td>\n",
              "      <td>Feature</td>\n",
              "    </tr>\n",
              "    <tr>\n",
              "      <th>829</th>\n",
              "      <td>Jam</td>\n",
              "      <td>(-73.8557464475, 40.8337556173)</td>\n",
              "      <td>2024-03-16 20:43:20+00:00</td>\n",
              "      <td>2024-03-16 21:03:20+00:00</td>\n",
              "      <td>I-95/Cross Bronx Expy (Westchester Ave)</td>\n",
              "      <td>Castle Hill Ave (Westchester Ave)</td>\n",
              "      <td>Feature</td>\n",
              "    </tr>\n",
              "    <tr>\n",
              "      <th>571</th>\n",
              "      <td>Jam</td>\n",
              "      <td>(-73.9346972699, 40.8479994892)</td>\n",
              "      <td>2024-03-16 20:43:20+00:00</td>\n",
              "      <td>2024-03-16 21:03:20+00:00</td>\n",
              "      <td>Amsterdam Ave (W 179th St)</td>\n",
              "      <td>I-95/US-1/Fort Washington Ave (W 179th St)</td>\n",
              "      <td>Feature</td>\n",
              "    </tr>\n",
              "    <tr>\n",
              "      <th>549</th>\n",
              "      <td>Jam</td>\n",
              "      <td>(-73.9428753252, 40.751848981)</td>\n",
              "      <td>2024-03-16 20:43:20+00:00</td>\n",
              "      <td>2024-03-16 21:04:20+00:00</td>\n",
              "      <td>Queens Plz S</td>\n",
              "      <td>Ed Koch Queensboro Brg W</td>\n",
              "      <td>Feature</td>\n",
              "    </tr>\n",
              "    <tr>\n",
              "      <th>54</th>\n",
              "      <td>Jam</td>\n",
              "      <td>(-74.1835271414, 40.9189546697)</td>\n",
              "      <td>2024-03-16 20:43:20+00:00</td>\n",
              "      <td>2024-03-16 21:03:20+00:00</td>\n",
              "      <td>Sheridan Ave</td>\n",
              "      <td>Preakness Ave</td>\n",
              "      <td>Feature</td>\n",
              "    </tr>\n",
              "    <tr>\n",
              "      <th>624</th>\n",
              "      <td>Jam</td>\n",
              "      <td>(-73.9244874413, 40.8444938147)</td>\n",
              "      <td>2024-03-16 20:43:20+00:00</td>\n",
              "      <td>2024-03-16 20:50:20+00:00</td>\n",
              "      <td>Cr Bronx Expwy exit [7N]</td>\n",
              "      <td>Cross Bronx Expy E</td>\n",
              "      <td>Feature</td>\n",
              "    </tr>\n",
              "    <tr>\n",
              "      <th>560</th>\n",
              "      <td>Jam</td>\n",
              "      <td>(-73.9386307294, 40.7958305181)</td>\n",
              "      <td>2024-03-16 20:43:20+00:00</td>\n",
              "      <td>2024-03-16 21:03:20+00:00</td>\n",
              "      <td>116th St (2nd Ave)</td>\n",
              "      <td>106th St (2nd Ave)</td>\n",
              "      <td>Feature</td>\n",
              "    </tr>\n",
              "    <tr>\n",
              "      <th>762</th>\n",
              "      <td>Jam</td>\n",
              "      <td>(-73.8824585671, 40.8395022725)</td>\n",
              "      <td>2024-03-16 20:43:20+00:00</td>\n",
              "      <td>2024-03-16 21:03:20+00:00</td>\n",
              "      <td>Southern Blvd/E 174th St (Boston Rd)</td>\n",
              "      <td>E Tremont Ave/W Farms Rd (Boston Rd)</td>\n",
              "      <td>Feature</td>\n",
              "    </tr>\n",
              "    <tr>\n",
              "      <th>433</th>\n",
              "      <td>Jam</td>\n",
              "      <td>(-73.9714274402, 40.8509311302)</td>\n",
              "      <td>2024-03-16 20:43:20+00:00</td>\n",
              "      <td>2024-03-16 21:03:20+00:00</td>\n",
              "      <td>Main St</td>\n",
              "      <td>Whiteman St</td>\n",
              "      <td>Feature</td>\n",
              "    </tr>\n",
              "    <tr>\n",
              "      <th>320</th>\n",
              "      <td>Jam</td>\n",
              "      <td>(-73.9923366006, 40.6010364462)</td>\n",
              "      <td>2024-03-16 20:43:20+00:00</td>\n",
              "      <td>2024-03-16 21:03:20+00:00</td>\n",
              "      <td>Stillwell Ave (86th St)</td>\n",
              "      <td>18th Ave (86th St)</td>\n",
              "      <td>Feature</td>\n",
              "    </tr>\n",
              "    <tr>\n",
              "      <th>69</th>\n",
              "      <td>Jam</td>\n",
              "      <td>(-74.1747536357, 40.9174539518)</td>\n",
              "      <td>2024-03-16 20:43:20+00:00</td>\n",
              "      <td>2024-03-16 21:03:20+00:00</td>\n",
              "      <td>Ellison St</td>\n",
              "      <td>Market St</td>\n",
              "      <td>Feature</td>\n",
              "    </tr>\n",
              "    <tr>\n",
              "      <th>167</th>\n",
              "      <td>Jam</td>\n",
              "      <td>(-74.0397526915, 40.7536340368)</td>\n",
              "      <td>2024-03-16 20:43:20+00:00</td>\n",
              "      <td>2024-03-16 21:03:20+00:00</td>\n",
              "      <td>New York Ave</td>\n",
              "      <td>Central Ave / Paterson Plank Rd</td>\n",
              "      <td>Feature</td>\n",
              "    </tr>\n",
              "  </tbody>\n",
              "</table>\n",
              "</div>"
            ],
            "text/plain": [
              "    category                      coordinates                 startTime  \\\n",
              "226      Jam  (-74.0100351567, 40.7051436688) 2024-03-16 20:43:20+00:00   \n",
              "60       Jam  (-74.1776235993, 40.6945020223) 2024-03-16 20:43:20+00:00   \n",
              "37       Jam  (-74.2153716679, 40.6676330145) 2024-03-16 20:43:20+00:00   \n",
              "231      Jam  (-74.0101263518, 40.7143946218) 2024-03-16 20:43:20+00:00   \n",
              "617      Jam  (-73.9251405592, 40.8476936876) 2024-03-16 20:43:20+00:00   \n",
              "206      Jam  (-74.0221319194, 40.6307472337) 2024-03-16 20:43:20+00:00   \n",
              "619      Jam  (-73.9285523291, 40.7278070466) 2024-03-16 20:43:20+00:00   \n",
              "232      Jam   (-74.011719584, 40.8444174079) 2024-03-16 20:43:20+00:00   \n",
              "137      Jam  (-74.0772607024, 40.7108004996) 2024-03-16 20:43:20+00:00   \n",
              "829      Jam  (-73.8557464475, 40.8337556173) 2024-03-16 20:43:20+00:00   \n",
              "571      Jam  (-73.9346972699, 40.8479994892) 2024-03-16 20:43:20+00:00   \n",
              "549      Jam   (-73.9428753252, 40.751848981) 2024-03-16 20:43:20+00:00   \n",
              "54       Jam  (-74.1835271414, 40.9189546697) 2024-03-16 20:43:20+00:00   \n",
              "624      Jam  (-73.9244874413, 40.8444938147) 2024-03-16 20:43:20+00:00   \n",
              "560      Jam  (-73.9386307294, 40.7958305181) 2024-03-16 20:43:20+00:00   \n",
              "762      Jam  (-73.8824585671, 40.8395022725) 2024-03-16 20:43:20+00:00   \n",
              "433      Jam  (-73.9714274402, 40.8509311302) 2024-03-16 20:43:20+00:00   \n",
              "320      Jam  (-73.9923366006, 40.6010364462) 2024-03-16 20:43:20+00:00   \n",
              "69       Jam  (-74.1747536357, 40.9174539518) 2024-03-16 20:43:20+00:00   \n",
              "167      Jam  (-74.0397526915, 40.7536340368) 2024-03-16 20:43:20+00:00   \n",
              "\n",
              "                      endTime                                     from  \\\n",
              "226 2024-03-16 21:03:20+00:00                             S William St   \n",
              "60  2024-03-16 21:03:20+00:00                               Express Rd   \n",
              "37  2024-03-16 21:03:20+00:00         NJ-27/Westfield Ave (S Broad St)   \n",
              "231 2024-03-16 21:03:20+00:00                  Chambers St / Hudson St   \n",
              "617 2024-03-16 21:09:20+00:00     Cross Bronx Expwy (I-95) exit [7N-S]   \n",
              "206 2024-03-16 21:03:20+00:00                           Bay Ridge Pkwy   \n",
              "619 2024-03-16 20:57:20+00:00       Long Is Expwy (I-495) exit [35A-B]   \n",
              "232 2024-03-16 21:03:20+00:00             I-95/New Jersey Tpke (US-46)   \n",
              "137 2024-03-16 21:03:20+00:00                    Kearney Ave / Hart St   \n",
              "829 2024-03-16 21:03:20+00:00  I-95/Cross Bronx Expy (Westchester Ave)   \n",
              "571 2024-03-16 21:03:20+00:00               Amsterdam Ave (W 179th St)   \n",
              "549 2024-03-16 21:04:20+00:00                             Queens Plz S   \n",
              "54  2024-03-16 21:03:20+00:00                             Sheridan Ave   \n",
              "624 2024-03-16 20:50:20+00:00                 Cr Bronx Expwy exit [7N]   \n",
              "560 2024-03-16 21:03:20+00:00                       116th St (2nd Ave)   \n",
              "762 2024-03-16 21:03:20+00:00     Southern Blvd/E 174th St (Boston Rd)   \n",
              "433 2024-03-16 21:03:20+00:00                                  Main St   \n",
              "320 2024-03-16 21:03:20+00:00                  Stillwell Ave (86th St)   \n",
              "69  2024-03-16 21:03:20+00:00                               Ellison St   \n",
              "167 2024-03-16 21:03:20+00:00                             New York Ave   \n",
              "\n",
              "                                             to     type  \n",
              "226                                     Wall St  Feature  \n",
              "60                                     Tower Rd  Feature  \n",
              "37          Rahway Ave/Elizabeth Ave (Broad St)  Feature  \n",
              "231                                    Broadway  Feature  \n",
              "617                   G Washington Br exit [7S]  Feature  \n",
              "206                              Gowanus Expy E  Feature  \n",
              "619          Long Is Expwy (I-495) exit [35A-B]  Feature  \n",
              "232                           Grand Ave (US-46)  Feature  \n",
              "137                    Martin Luther King Jr Dr  Feature  \n",
              "829           Castle Hill Ave (Westchester Ave)  Feature  \n",
              "571  I-95/US-1/Fort Washington Ave (W 179th St)  Feature  \n",
              "549                    Ed Koch Queensboro Brg W  Feature  \n",
              "54                                Preakness Ave  Feature  \n",
              "624                          Cross Bronx Expy E  Feature  \n",
              "560                          106th St (2nd Ave)  Feature  \n",
              "762        E Tremont Ave/W Farms Rd (Boston Rd)  Feature  \n",
              "433                                 Whiteman St  Feature  \n",
              "320                          18th Ave (86th St)  Feature  \n",
              "69                                    Market St  Feature  \n",
              "167             Central Ave / Paterson Plank Rd  Feature  "
            ]
          },
          "execution_count": 25,
          "metadata": {},
          "output_type": "execute_result"
        }
      ],
      "source": [
        "df.sort_values(by=\"startTime\", ascending=False).head(20)"
      ]
    },
    {
      "cell_type": "code",
      "execution_count": 26,
      "metadata": {
        "colab": {
          "base_uri": "https://localhost:8080/"
        },
        "id": "VedABi0jHiQB",
        "outputId": "5c89a6c6-2f65-43f8-f0c7-9805c9c4ba98"
      },
      "outputs": [
        {
          "name": "stdout",
          "output_type": "stream",
          "text": [
            "938 incidents occured in 2024\n",
            "52 incidents occured in 2023\n",
            "21 incidents occured in 2022\n"
          ]
        }
      ],
      "source": [
        "a=rows_after('2024-01-01 00:00:00')\n",
        "b=rows_after('2023-01-01 00:00:00')-a\n",
        "c=rows_after('2022-01-01 00:00:00')-b-a\n",
        "\n",
        "print(f'{a} incidents occured in 2024')\n",
        "print(f'{b} incidents occured in 2023')\n",
        "print(f'{c} incidents occured in 2022')"
      ]
    },
    {
      "cell_type": "code",
      "execution_count": 27,
      "metadata": {
        "id": "5_pTu_TcpDYx"
      },
      "outputs": [],
      "source": [
        "#make a new feature called hours to"
      ]
    },
    {
      "cell_type": "code",
      "execution_count": 27,
      "metadata": {},
      "outputs": [
        {
          "data": {
            "text/plain": [
              "from\n",
              "Park Ave                12\n",
              "5th Ave                  8\n",
              "Queens                   7\n",
              "Lexington Ave            6\n",
              "9th Ave                  5\n",
              "Broadway                 5\n",
              "Brooklyn Queens Expy     5\n",
              "Main St                  4\n",
              "7th Ave                  4\n",
              "Degraw St                4\n",
              "Name: category, dtype: int64"
            ]
          },
          "execution_count": 27,
          "metadata": {},
          "output_type": "execute_result"
        }
      ],
      "source": [
        "df.groupby('from').count().sort_values(by=\"category\", ascending=False)['category'].head(10)"
      ]
    },
    {
      "cell_type": "markdown",
      "metadata": {
        "id": "f4PuSqmPQTBC"
      },
      "source": [
        "# Save df"
      ]
    },
    {
      "cell_type": "code",
      "execution_count": 29,
      "metadata": {
        "id": "fLF0lgOrykjL"
      },
      "outputs": [],
      "source": [
        "df.to_csv('../data/processed/output.csv', index=False)"
      ]
    }
  ],
  "metadata": {
    "colab": {
      "collapsed_sections": [
        "JH8vbFx7Ouqp",
        "0mZRNY5eO4bN",
        "kXPvYge4VLW5",
        "53pLRkMVVp0q",
        "QkMOyt25WCIv",
        "I7Ef9HMkftdw",
        "y_bNCpITjdne"
      ],
      "provenance": []
    },
    "kernelspec": {
      "display_name": "Python 3",
      "name": "python3"
    },
    "language_info": {
      "codemirror_mode": {
        "name": "ipython",
        "version": 3
      },
      "file_extension": ".py",
      "mimetype": "text/x-python",
      "name": "python",
      "nbconvert_exporter": "python",
      "pygments_lexer": "ipython3",
      "version": "3.9.7"
    }
  },
  "nbformat": 4,
  "nbformat_minor": 0
}
